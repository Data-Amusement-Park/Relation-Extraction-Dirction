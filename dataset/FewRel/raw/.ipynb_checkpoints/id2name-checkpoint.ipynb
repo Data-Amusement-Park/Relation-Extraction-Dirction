{
 "cells": [
  {
   "cell_type": "code",
   "execution_count": 1,
   "metadata": {},
   "outputs": [],
   "source": [
    "import json"
   ]
  },
  {
   "cell_type": "code",
   "execution_count": 5,
   "metadata": {},
   "outputs": [],
   "source": [
    "data = json.load(open('pid2name.json'))\n",
    "id2name = {}"
   ]
  },
  {
   "cell_type": "code",
   "execution_count": 6,
   "metadata": {},
   "outputs": [],
   "source": [
    "for key in data:\n",
    "    id2name[key] = data[key][0]"
   ]
  },
  {
   "cell_type": "code",
   "execution_count": 8,
   "metadata": {},
   "outputs": [
    {
     "data": {
      "text/plain": [
       "744"
      ]
     },
     "execution_count": 8,
     "metadata": {},
     "output_type": "execute_result"
    }
   ],
   "source": [
    "len(id2name)"
   ]
  },
  {
   "cell_type": "code",
   "execution_count": 9,
   "metadata": {},
   "outputs": [],
   "source": [
    "all_exist_rel = set()\n",
    "all_exist_id2name = {}"
   ]
  },
  {
   "cell_type": "code",
   "execution_count": 1,
   "metadata": {},
   "outputs": [],
   "source": [
    "def add_rel(path):\n",
    "    data = json.load(open(path))\n",
    "    for key in data:\n",
    "        if 'inverse' in data[key][1]:\n",
    "            print(data[key])\n",
    "        all_exist_rel.add(key)\n",
    "        all_exist_id2name[key] = id2name[key]"
   ]
  },
  {
   "cell_type": "code",
   "execution_count": 12,
   "metadata": {},
   "outputs": [],
   "source": [
    "add_rel('train.json')\n",
    "add_rel('test.json')\n",
    "add_rel('val.json')"
   ]
  },
  {
   "cell_type": "code",
   "execution_count": 15,
   "metadata": {
    "scrolled": false
   },
   "outputs": [
    {
     "data": {
      "text/plain": [
       "{'P931': 'place served by transport hub',\n",
       " 'P4552': 'mountain range',\n",
       " 'P140': 'religion',\n",
       " 'P1923': 'participating team',\n",
       " 'P150': 'contains administrative territorial entity',\n",
       " 'P6': 'head of government',\n",
       " 'P27': 'country of citizenship',\n",
       " 'P449': 'original network',\n",
       " 'P1435': 'heritage designation',\n",
       " 'P175': 'performer',\n",
       " 'P1344': 'participant of',\n",
       " 'P39': 'position held',\n",
       " 'P527': 'has part',\n",
       " 'P740': 'location of formation',\n",
       " 'P706': 'located on terrain feature',\n",
       " 'P84': 'architect',\n",
       " 'P495': 'country of origin',\n",
       " 'P123': 'publisher',\n",
       " 'P57': 'director',\n",
       " 'P22': 'father',\n",
       " 'P178': 'developer',\n",
       " 'P241': 'military branch',\n",
       " 'P403': 'mouth of the watercourse',\n",
       " 'P1411': 'nominated for',\n",
       " 'P135': 'movement',\n",
       " 'P991': 'successful candidate',\n",
       " 'P156': 'followed by',\n",
       " 'P176': 'manufacturer',\n",
       " 'P31': 'instance of',\n",
       " 'P1877': 'after a work by',\n",
       " 'P102': 'member of political party',\n",
       " 'P1408': 'licensed to broadcast to',\n",
       " 'P159': 'headquarters location',\n",
       " 'P3373': 'sibling',\n",
       " 'P1303': 'instrument',\n",
       " 'P17': 'country',\n",
       " 'P106': 'occupation',\n",
       " 'P551': 'residence',\n",
       " 'P937': 'work location',\n",
       " 'P355': 'subsidiary',\n",
       " 'P710': 'participant',\n",
       " 'P137': 'operator',\n",
       " 'P674': 'characters',\n",
       " 'P466': 'occupant',\n",
       " 'P136': 'genre',\n",
       " 'P306': 'operating system',\n",
       " 'P127': 'owned by',\n",
       " 'P400': 'platform',\n",
       " 'P974': 'tributary',\n",
       " 'P1346': 'winner',\n",
       " 'P460': 'said to be the same as',\n",
       " 'P86': 'composer',\n",
       " 'P118': 'league',\n",
       " 'P264': 'record label',\n",
       " 'P750': 'distributor',\n",
       " 'P58': 'screenwriter',\n",
       " 'P3450': 'sports season of league or competition',\n",
       " 'P105': 'taxon rank',\n",
       " 'P276': 'location',\n",
       " 'P101': 'field of work',\n",
       " 'P407': 'language of work or name',\n",
       " 'P1001': 'applies to jurisdiction',\n",
       " 'P800': 'notable work',\n",
       " 'P131': 'located in the administrative territorial entity',\n",
       " 'P119': 'place of burial',\n",
       " 'P272': 'production company',\n",
       " 'P69': 'educated at',\n",
       " 'P50': 'author',\n",
       " 'P172': 'ethnic group',\n",
       " 'P81': 'connecting line',\n",
       " 'P749': 'parent organization',\n",
       " 'P488': 'chairperson',\n",
       " 'P2416': 'sports discipline competed in',\n",
       " 'P1441': 'present in work',\n",
       " 'P53': 'family',\n",
       " 'P161': 'cast member',\n",
       " 'P108': 'employer',\n",
       " 'P170': 'creator',\n",
       " 'P54': 'member of sports team',\n",
       " 'P171': 'parent taxon',\n",
       " 'P607': 'conflict',\n",
       " 'P179': 'part of the series',\n",
       " 'P1269': 'facet of',\n",
       " 'P166': 'award received',\n",
       " 'P177': 'crosses',\n",
       " 'P364': 'original language of film or TV show',\n",
       " 'P2094': 'competition class',\n",
       " 'P361': 'part of',\n",
       " 'P641': 'sport',\n",
       " 'P59': 'constellation',\n",
       " 'P413': 'position played on team / speciality',\n",
       " 'P206': 'located in or next to body of water',\n",
       " 'P412': 'voice type',\n",
       " 'P155': 'follows',\n",
       " 'P26': 'spouse',\n",
       " 'P410': 'military rank',\n",
       " 'P25': 'mother',\n",
       " 'P463': 'member of',\n",
       " 'P40': 'child',\n",
       " 'P921': 'main subject'}"
      ]
     },
     "execution_count": 15,
     "metadata": {},
     "output_type": "execute_result"
    }
   ],
   "source": [
    "all_exist_id2name"
   ]
  },
  {
   "cell_type": "code",
   "execution_count": 18,
   "metadata": {},
   "outputs": [],
   "source": [
    "chose_name = {'father', 'mother', 'creator', 'follows', 'owned by'}\n",
    "chose_id2name = {}"
   ]
  },
  {
   "cell_type": "code",
   "execution_count": 20,
   "metadata": {},
   "outputs": [],
   "source": [
    "for k, v in all_exist_id2name.items():\n",
    "    if v in chose_name:\n",
    "        chose_id2name[k] = v"
   ]
  },
  {
   "cell_type": "code",
   "execution_count": null,
   "metadata": {},
   "outputs": [],
   "source": []
  },
  {
   "cell_type": "code",
   "execution_count": 21,
   "metadata": {
    "scrolled": false
   },
   "outputs": [
    {
     "data": {
      "text/plain": [
       "{'P22': 'father',\n",
       " 'P127': 'owned by',\n",
       " 'P170': 'creator',\n",
       " 'P155': 'follows',\n",
       " 'P25': 'mother'}"
      ]
     },
     "execution_count": 21,
     "metadata": {},
     "output_type": "execute_result"
    }
   ],
   "source": [
    "chose_id2name"
   ]
  },
  {
   "cell_type": "code",
   "execution_count": 28,
   "metadata": {},
   "outputs": [],
   "source": [
    "json.dump(chose_id2name, open('chose_id2name.json', 'w'))"
   ]
  },
  {
   "cell_type": "code",
   "execution_count": null,
   "metadata": {},
   "outputs": [],
   "source": []
  }
 ],
 "metadata": {
  "kernelspec": {
   "display_name": "Python 3",
   "language": "python",
   "name": "python3"
  },
  "language_info": {
   "codemirror_mode": {
    "name": "ipython",
    "version": 3
   },
   "file_extension": ".py",
   "mimetype": "text/x-python",
   "name": "python",
   "nbconvert_exporter": "python",
   "pygments_lexer": "ipython3",
   "version": "3.8.1"
  }
 },
 "nbformat": 4,
 "nbformat_minor": 4
}
